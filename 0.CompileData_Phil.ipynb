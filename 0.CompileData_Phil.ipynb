{
 "cells": [
  {
   "cell_type": "code",
   "execution_count": 96,
   "id": "ff4a2759",
   "metadata": {},
   "outputs": [],
   "source": [
    "import pandas as pd\n",
    "import numpy as np\n",
    "import copy\n",
    "from pandas import DataFrame\n",
    "import time\n",
    "import matplotlib.pyplot as plt\n",
    "from matplotlib.pyplot import figure\n",
    "import matplotlib.ticker as mtick \n",
    "from matplotlib import rcParams\n",
    "import seaborn as sns\n",
    "from mpl_toolkits.mplot3d import Axes3D\n",
    "import statsmodels.formula.api as smf\n"
   ]
  },
  {
   "cell_type": "code",
   "execution_count": 2,
   "id": "26d1f60b",
   "metadata": {},
   "outputs": [],
   "source": [
    "data_path = '/Users/philhuang/Desktop/Phil_projects/P3_PhilHuang/WorkingData/'"
   ]
  },
  {
   "cell_type": "markdown",
   "id": "9fc34ef8",
   "metadata": {},
   "source": [
    "### Part 0: Extract data for different states."
   ]
  },
  {
   "cell_type": "markdown",
   "id": "e186fbfe",
   "metadata": {},
   "source": [
    "I download the Fannie Mae Single-Family Loan Performance Data from https://capitalmarkets.fanniemae.com/credit-risk-transfer/single-family-credit-risk-transfer/fannie-mae-single-family-loan-performance-data. "
   ]
  },
  {
   "cell_type": "code",
   "execution_count": 3,
   "id": "d853d984",
   "metadata": {
    "scrolled": true
   },
   "outputs": [],
   "source": [
    "# In the data description, they offer the name of the variables. \n",
    "columns=[\"POOL_ID\", \"LOAN_ID\", \"ACT_PERIOD\", \"CHANNEL\", \"SELLER\", \"SERVICER\",\n",
    "                        \"MASTER_SERVICER\", \"ORIG_RATE\", \"CURR_RATE\", \"ORIG_UPB\", \"ISSUANCE_UPB\",\n",
    "                        \"CURRENT_UPB\", \"ORIG_TERM\", \"ORIG_DATE\", \"FIRST_PAY\", \"LOAN_AGE\",\n",
    "                        \"REM_MONTHS\", \"ADJ_REM_MONTHS\", \"MATR_DT\", \"OLTV\", \"OCLTV\",\n",
    "                        \"NUM_BO\", \"DTI\", \"CSCORE_B\", \"CSCORE_C\", \"FIRST_FLAG\", \"PURPOSE\",\n",
    "                        \"PROP\", \"NO_UNITS\", \"OCC_STAT\", \"STATE\", \"MSA\", \"ZIP\", \"MI_PCT\",\n",
    "                        \"PRODUCT\", \"PPMT_FLG\", \"IO\", \"FIRST_PAY_IO\", \"MNTHS_TO_AMTZ_IO\",\n",
    "                        \"DLQ_STATUS\", \"PMT_HISTORY\", \"MOD_FLAG\", \"MI_CANCEL_FLAG\", \"Zero_Bal_Code\",\n",
    "                        \"ZB_DTE\", \"LAST_UPB\", \"RPRCH_DTE\", \"CURR_SCHD_PRNCPL\", \"TOT_SCHD_PRNCPL\",\n",
    "                        \"UNSCHD_PRNCPL_CURR\", \"LAST_PAID_INSTALLMENT_DATE\", \"FORECLOSURE_DATE\",\n",
    "                        \"DISPOSITION_DATE\", \"FORECLOSURE_COSTS\", \"PROPERTY_PRESERVATION_AND_REPAIR_COSTS\",\n",
    "                        \"ASSET_RECOVERY_COSTS\", \"MISCELLANEOUS_HOLDING_EXPENSES_AND_CREDITS\",\n",
    "                        \"ASSOCIATED_TAXES_FOR_HOLDING_PROPERTY\", \"NET_SALES_PROCEEDS\",\n",
    "                        \"CREDIT_ENHANCEMENT_PROCEEDS\", \"REPURCHASES_MAKE_WHOLE_PROCEEDS\",\n",
    "                        \"OTHER_FORECLOSURE_PROCEEDS\", \"NON_INTEREST_BEARING_UPB\", \"PRINCIPAL_FORGIVENESS_AMOUNT\",\n",
    "                        \"ORIGINAL_LIST_START_DATE\", \"ORIGINAL_LIST_PRICE\", \"CURRENT_LIST_START_DATE\",\n",
    "                        \"CURRENT_LIST_PRICE\", \"ISSUE_SCOREB\", \"ISSUE_SCOREC\", \"CURR_SCOREB\",\n",
    "                        \"CURR_SCOREC\", \"MI_TYPE\", \"SERV_IND\", \"CURRENT_PERIOD_MODIFICATION_LOSS_AMOUNT\",\n",
    "                        \"CUMULATIVE_MODIFICATION_LOSS_AMOUNT\", \"CURRENT_PERIOD_CREDIT_EVENT_NET_GAIN_OR_LOSS\",\n",
    "                        \"CUMULATIVE_CREDIT_EVENT_NET_GAIN_OR_LOSS\", \"HOMEREADY_PROGRAM_INDICATOR\",\n",
    "                        \"FORECLOSURE_PRINCIPAL_WRITE_OFF_AMOUNT\", \"RELOCATION_MORTGAGE_INDICATOR\",\n",
    "                        \"ZERO_BALANCE_CODE_CHANGE_DATE\", \"LOAN_HOLDBACK_INDICATOR\", \"LOAN_HOLDBACK_EFFECTIVE_DATE\",\n",
    "                        \"DELINQUENT_ACCRUED_INTEREST\", \"PROPERTY_INSPECTION_WAIVER_INDICATOR\",\n",
    "                        \"HIGH_BALANCE_LOAN_INDICATOR\", \"ARM_5_YR_INDICATOR\", \"ARM_PRODUCT_TYPE\",\n",
    "                        \"MONTHS_UNTIL_FIRST_PAYMENT_RESET\", \"MONTHS_BETWEEN_SUBSEQUENT_PAYMENT_RESET\",\n",
    "                        \"INTEREST_RATE_CHANGE_DATE\", \"PAYMENT_CHANGE_DATE\", \"ARM_INDEX\",\n",
    "                        \"ARM_CAP_STRUCTURE\", \"INITIAL_INTEREST_RATE_CAP\", \"PERIODIC_INTEREST_RATE_CAP\",\n",
    "                        \"LIFETIME_INTEREST_RATE_CAP\", \"MARGIN\", \"BALLOON_INDICATOR\",\n",
    "                        \"PLAN_NUMBER\", \"FORBEARANCE_INDICATOR\", \"HIGH_LOAN_TO_VALUE_HLTV_REFINANCE_OPTION_INDICATOR\",\n",
    "                        \"DEAL_NAME\", \"RE_PROCS_FLAG\", \"ADR_TYPE\", \"ADR_COUNT\", \"ADR_UPB\"]\n",
    "\n",
    "# Because the original data in csv file is very big, I need to read in by chunk.\n",
    "chunk_size=10000\n",
    "\n",
    "# Define a function to read in data by chunk, and output the results into .csv files.\n",
    "def getfile(year_quarter, state_name):\n",
    "    mylist=[]\n",
    "    \n",
    "    # Time the process.\n",
    "    starttime = time.time()\n",
    "    for chunk in pd.read_csv(data_path+'20'+str(year_quarter)+'.csv', sep=\"|\", names=columns, header=None, \n",
    "                             low_memory=False, on_bad_lines='skip', chunksize=chunk_size):\n",
    "        \n",
    "        # Pick out the states that we need.\n",
    "        chunk=chunk[chunk['STATE']==state_name]\n",
    "        \n",
    "        # Store the results.\n",
    "        mylist.append(chunk)\n",
    "    file=pd.concat(mylist, axis=0)  \n",
    "\n",
    "    # Export the output file to csv so that we do not need to repeat the same exercise when we need to use the same data next time\n",
    "    file.to_csv(data_path+'file_20'+str(year_quarter)+'_'+str(state_name)+'.csv', index=False)\n",
    "    endtime = time.time()\n",
    "    duration = np.around((endtime-starttime)/60, 4)\n",
    "    print('{0}, {1}, {2} lines is done in {3} minutes.'.format(year_quarter, state_name, len(file), duration))\n",
    "    return file\n"
   ]
  },
  {
   "cell_type": "code",
   "execution_count": 4,
   "id": "1a6a54c6",
   "metadata": {},
   "outputs": [],
   "source": [
    "state_list = ['NH','CA','CO','FL','GA','MI', 'NY', 'OH','PA','TN','TX','VA','WA']"
   ]
  },
  {
   "cell_type": "code",
   "execution_count": 9,
   "id": "1b02214c",
   "metadata": {
    "scrolled": true
   },
   "outputs": [
    {
     "name": "stdout",
     "output_type": "stream",
     "text": [
      "08Q1, NH is done in 2.2228 minutes.\n",
      "18Q1, NH is done in 1.8628 minutes.\n",
      "08Q1, CA is done in 3.3215 minutes.\n",
      "18Q1, CA is done in 3.2757 minutes.\n",
      "08Q1, CO is done in 2.3426 minutes.\n",
      "18Q1, CO is done in 2.1237 minutes.\n",
      "08Q1, FL is done in 3.0301 minutes.\n",
      "18Q1, FL is done in 2.7082 minutes.\n",
      "08Q1, GA is done in 2.4912 minutes.\n",
      "18Q1, GA is done in 2.1353 minutes.\n",
      "08Q1, MI is done in 2.455 minutes.\n",
      "18Q1, MI is done in 2.1365 minutes.\n",
      "08Q1, NY is done in 2.6044 minutes.\n",
      "18Q1, NY is done in 2.2028 minutes.\n",
      "08Q1, OH is done in 2.4801 minutes.\n",
      "18Q1, OH is done in 2.0907 minutes.\n",
      "08Q1, PA is done in 2.5164 minutes.\n",
      "18Q1, PA is done in 2.1214 minutes.\n",
      "08Q1, TN is done in 2.3477 minutes.\n",
      "18Q1, TN is done in 2.0297 minutes.\n",
      "08Q1, TX is done in 2.9098 minutes.\n",
      "18Q1, TX is done in 2.7804 minutes.\n",
      "08Q1, VA is done in 2.4733 minutes.\n",
      "18Q1, VA is done in 2.0602 minutes.\n",
      "08Q1, WA is done in 2.5204 minutes.\n",
      "18Q1, WA is done in 2.1984 minutes.\n"
     ]
    }
   ],
   "source": [
    "for state in state_list:\n",
    "    file_2008q1 = getfile(\"08Q1\", state) \n",
    "    file_2018q1 = getfile(\"18Q1\", state) "
   ]
  },
  {
   "cell_type": "code",
   "execution_count": null,
   "id": "d4547b92",
   "metadata": {},
   "outputs": [],
   "source": []
  }
 ],
 "metadata": {
  "kernelspec": {
   "display_name": "Python 3 (ipykernel)",
   "language": "python",
   "name": "python3"
  },
  "language_info": {
   "codemirror_mode": {
    "name": "ipython",
    "version": 3
   },
   "file_extension": ".py",
   "mimetype": "text/x-python",
   "name": "python",
   "nbconvert_exporter": "python",
   "pygments_lexer": "ipython3",
   "version": "3.9.15"
  }
 },
 "nbformat": 4,
 "nbformat_minor": 5
}
